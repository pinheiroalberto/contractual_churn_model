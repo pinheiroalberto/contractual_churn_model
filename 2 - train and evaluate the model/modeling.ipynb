{
 "cells": [
  {
   "cell_type": "code",
   "execution_count": 17,
   "id": "092c863f-c067-466a-8d8c-e916979a375b",
   "metadata": {},
   "outputs": [],
   "source": [
    "# Loading modules\n",
    "import pandas as pd \n",
    "import numpy as np \n",
    "import matplotlib.pyplot as plt \n",
    "import seaborn as sns \n",
    "import statistics\n",
    "\n",
    "from sklearn.preprocessing import StandardScaler\n",
    "from sklearn.model_selection import train_test_split\n",
    "from sklearn.model_selection import cross_validate\n",
    "from sklearn.metrics import classification_report\n",
    "from sklearn.ensemble import RandomForestClassifier\n",
    "\n",
    "\n",
    "pd.set_option('display.max_columns', None)"
   ]
  },
  {
   "cell_type": "code",
   "execution_count": 4,
   "id": "929a0878-a06d-494b-bb59-8e150f24d94e",
   "metadata": {},
   "outputs": [],
   "source": [
    "# Reading data\n",
    "df_telecom = pd.read_csv('../0 - data/telecom_churn_cleaned.csv')"
   ]
  },
  {
   "cell_type": "code",
   "execution_count": 9,
   "id": "631321b7-96ec-468b-b30a-55ee601bf0b5",
   "metadata": {},
   "outputs": [
    {
     "data": {
      "text/plain": [
       "RandomForestClassifier(random_state=42)"
      ]
     },
     "execution_count": 9,
     "metadata": {},
     "output_type": "execute_result"
    }
   ],
   "source": [
    "# Subsetiing the splits \n",
    "X = df_telecom.copy()\n",
    "X.drop(columns=['Churn'], inplace=True)\n",
    "y = df_telecom['Churn']\n",
    "\n",
    "# Separating train and test split \n",
    "X_train, X_test, y_train, y_test = train_test_split(X, y, stratify=y, random_state=42)\n",
    "\n",
    "# Scalling the data \n",
    "sc = StandardScaler()\n",
    "X_train_scaled = sc.fit_transform(X_train)\n",
    "X_test_scaled = sc.transform(X_test)\n",
    "\n",
    "# Creating a Random Forest Object \n",
    "clf_rf = RandomForestClassifier(random_state=42)\n",
    "clf_rf.fit(X_train_scaled, y_train)"
   ]
  },
  {
   "cell_type": "code",
   "execution_count": 73,
   "id": "7feecd86-9b5f-42c8-b1a4-8cacf16f654e",
   "metadata": {},
   "outputs": [
    {
     "data": {
      "text/plain": [
       "0.9271694779116467"
      ]
     },
     "execution_count": 73,
     "metadata": {},
     "output_type": "execute_result"
    }
   ],
   "source": [
    "# validate de train set with cross validation \n",
    "cv_results = cross_validate(clf_rf, X_train_scaled, y_train, cv=10, scoring=['accuracy'])\n",
    "cv_results.get('test_accuracy').mean()\n"
   ]
  },
  {
   "cell_type": "code",
   "execution_count": 47,
   "id": "d49eea04-d60a-4d1e-b9fc-b321c5eb8b28",
   "metadata": {},
   "outputs": [
    {
     "name": "stdout",
     "output_type": "stream",
     "text": [
      "              precision    recall  f1-score   support\n",
      "\n",
      "       False       0.94      0.99      0.96       713\n",
      "        True       0.90      0.60      0.72       121\n",
      "\n",
      "    accuracy                           0.93       834\n",
      "   macro avg       0.92      0.79      0.84       834\n",
      "weighted avg       0.93      0.93      0.93       834\n",
      "\n"
     ]
    }
   ],
   "source": [
    "# Predicting new customers churn\n",
    "y_pred = clf_rf.predict(X_test_scaled)\n",
    "print(classification_report(y_test, y_pred))"
   ]
  }
 ],
 "metadata": {
  "kernelspec": {
   "display_name": "Python 3",
   "language": "python",
   "name": "python3"
  },
  "language_info": {
   "codemirror_mode": {
    "name": "ipython",
    "version": 3
   },
   "file_extension": ".py",
   "mimetype": "text/x-python",
   "name": "python",
   "nbconvert_exporter": "python",
   "pygments_lexer": "ipython3",
   "version": "3.8.8"
  }
 },
 "nbformat": 4,
 "nbformat_minor": 5
}
